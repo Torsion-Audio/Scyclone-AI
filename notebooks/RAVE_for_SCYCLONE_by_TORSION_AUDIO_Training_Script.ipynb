{
  "cells": [
    {
      "cell_type": "markdown",
      "source": [
        "<img src=\"https://raw.githubusercontent.com/Torsion-Audio/Scyclone/main/assets/pictures/interface.png\" width=\"100%\"/>\n",
        "\n",
        "__Scyclone__ is an audio plugin developed by **Torsion Audio** that utilizes neural timbre transfer technology to offer a new approach to audio production. The plugin builds upon [RAVE](https://github.com/acids-ircam/RAVE) [Antoine Cailon et. al], a realtime audio variational auto encoder, facilitating neural timbre transfer in both single and couple inference mode.\n",
        "\n",
        "This enables a new artificial layering technique to be applied on the incoming signal in creating richer drum pallets, fuller atmospheres or simply transferring the timbre of the raw signal to another sound pallet. To further control the behaviour and production of the neural networks, we have internally equipped the plugin with signal processing modules allowing the user to shape, control and embellish the source and target timbres in a distinct manner.\n",
        "\n",
        "Scyclone comes with two pre-trained models, **funk_drums** trained on four hours of data inspired by the captivating sounds of vintage drum-breaks and **Djembe**, trained on five hours of carefully compiled Djembe dataset.\n",
        "\n",
        "\n",
        "This notebook allows you to train your own models on customized datasets to use as presets inside the plugin. Although we encorage the interested reader to visit RAVE [article](https://arxiv.org/pdf/2111.05011.pdf) and study the well-written [github](https://github.com/acids-ircam/RAVE) repository.\n",
        "\n",
        "\n",
        "There are many ways to train machine learning models both on local machines and on cloud. To keep things simple for you, we chose Google Colab as it offeres an all-in-one solution to the problem. Please note that we do not endorse for Google or any other cloud computing service provider.\n",
        "\n",
        "<img src=\"https://raw.githubusercontent.com/Torsion-Audio/Scyclone/main/assets/pictures/logo.png\" alt=\"alt\" width=\"1%\"/>  **`Torsion Audio`**\n",
        "\n",
        "\n",
        "\n",
        "\n",
        "\n",
        "\n",
        "\n",
        "\n",
        "\n",
        "\n",
        "\n",
        "\n"
      ],
      "metadata": {
        "id": "JFuRj2qPr_i3"
      }
    },
    {
      "cell_type": "code",
      "source": [
        "#@title Get System Specs\n",
        "!nvidia-smi"
      ],
      "metadata": {
        "cellView": "form",
        "id": "x-pBvYdJrlIN"
      },
      "execution_count": null,
      "outputs": []
    },
    {
      "cell_type": "code",
      "execution_count": null,
      "metadata": {
        "cellView": "form",
        "id": "VFDBsx3DCfI6"
      },
      "outputs": [],
      "source": [
        "#@title Mount Google Drive\n",
        "from google.colab import drive\n",
        "drive.mount('content')"
      ]
    },
    {
      "cell_type": "code",
      "execution_count": null,
      "metadata": {
        "id": "_Rlc6DI7_Epj",
        "cellView": "form"
      },
      "outputs": [],
      "source": [
        "#@title Install Dependencies\n",
        "\n",
        "print('This might take several minutes...')\n",
        "!curl -L https://repo.anaconda.com/miniconda/Miniconda3-py39_4.12.0-Linux-x86_64.sh -o miniconda.sh\n",
        "!chmod +x miniconda.sh\n",
        "!sh miniconda.sh -b -p /content/miniconda\n",
        "!/content/miniconda/bin/pip install --quiet acids-rave==2.1.7\n",
        "!/content/miniconda/bin/pip install --quiet pytorch_lightning==1.9.0\n",
        "!/content/miniconda/bin/pip install cached-conv==2.4.0\n",
        "!/content/miniconda/bin/pip install onnx\n",
        "!/content/miniconda/bin/pip install --quiet --upgrade ipython ipykernel\n",
        "!/content/miniconda/bin/conda install ffmpeg -y\n",
        "!/content/miniconda/bin/apt-get install unzip\n",
        "!nvidia-smi"
      ]
    },
    {
      "cell_type": "code",
      "source": [
        "#@title Unzip data\n",
        "import os\n",
        "\n",
        "data_zip = \"\"     #@param {type:\"string\"}\n",
        "dataset_dir = \"\"  #@param {type:\"string\"}\n",
        "\n",
        "!unzip data_zip -d dataset_dir"
      ],
      "metadata": {
        "id": "5Yqtbxi4q02M",
        "cellView": "form"
      },
      "execution_count": null,
      "outputs": []
    },
    {
      "cell_type": "code",
      "execution_count": null,
      "metadata": {
        "cellView": "form",
        "colab": {
          "background_save": true
        },
        "id": "iZ6ECduhA2_Q"
      },
      "outputs": [],
      "source": [
        "#@title Train\n",
        "\n",
        "name = \"\"           #@param {type:\"string\"}\n",
        "dataset_dir = \"\"    #@param {type:\"string\"}\n",
        "save_dir = \"\"       #@param {type:\"string\"}\n",
        "architecture = \"v1\" #@param [\"v1\", \"onnx\"]\n",
        "sr = 48000       #@param [48000, 44100]\n",
        "CAPACITY = 32     #@param {type:\"number\"}\n",
        "LATENT_SIZE = 16 #@param {type:\"number\"}\n",
        "\n",
        "\n",
        "%cd /content/\n",
        "!mkdir dataset\n",
        "%cd $save_dir\n",
        "preprocessed_dataset = \"/content/dataset\"\n",
        "\n",
        "\n",
        "!/content/miniconda/bin/rave preprocess --input_path $dataset --output_path $preprocessed_dataset --sampling_rate sr\n",
        "!/content/miniconda/bin/rave train --config $architecture --config $regularization --config centered --db_path $preprocessed_dataset --name $name --override LATENT_SIZE=LATENT_SIZE --override CAPACITY=CAPACITY"
      ]
    },
    {
      "cell_type": "code",
      "execution_count": null,
      "metadata": {
        "cellView": "form",
        "colab": {
          "background_save": true
        },
        "id": "s3ne3LYOan78"
      },
      "outputs": [],
      "source": [
        "#@title Resume \n",
        "\n",
        "name = \"\"           #@param {type:\"string\"}\n",
        "dataset_dir = \"\"    #@param {type:\"string\"}\n",
        "save_dir = \"\"       #@param {type:\"string\"}\n",
        "architecture = \"v1\" #@param [\"v1\", \"onnx\"]\n",
        "sr = 48000       #@param [48000, 44100]\n",
        "CAPACITY = 32     #@param {type:\"number\"}\n",
        "LATENT_SIZE = 16 #@param {type:\"number\"}\n",
        "resume_dir = \"\" #@param {type:\"string\"}\n",
        "\n",
        "\n",
        "%cd /content/\n",
        "!mkdir dataset\n",
        "%cd $save_dir\n",
        "preprocessed_dataset = \"/content/dataset\"\n",
        "\n",
        "\n",
        "# !/content/miniconda/bin/rave train --helpfull\n",
        "!/content/miniconda/bin/rave preprocess --input_path $dataset --output_path $preprocessed_dataset --sampling_rate sr\n",
        "!/content/miniconda/bin/rave train --config $architecture --config $regularization --db_path $preprocessed_dataset --name $name --override LATENT_SIZE=16 --override CAPACITY=32"
      ]
    },
    {
      "cell_type": "code",
      "execution_count": null,
      "metadata": {
        "id": "HOxU6HKzQ3UM",
        "cellView": "form"
      },
      "outputs": [],
      "source": [
        "#@title Export Model to ONNX\n",
        "\n",
        "run_dir = \"\" #@param {type:\"string\"}\n",
        "!/content/miniconda/bin/rave export_onnx --run $run_dir"
      ]
    }
  ],
  "metadata": {
    "accelerator": "GPU",
    "colab": {
      "provenance": []
    },
    "gpuClass": "premium",
    "kernelspec": {
      "display_name": "Python 3",
      "name": "python3"
    },
    "language_info": {
      "name": "python"
    }
  },
  "nbformat": 4,
  "nbformat_minor": 0
}